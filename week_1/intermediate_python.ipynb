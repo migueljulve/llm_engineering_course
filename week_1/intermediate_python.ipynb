{
  "nbformat": 4,
  "nbformat_minor": 0,
  "metadata": {
    "colab": {
      "provenance": [],
      "authorship_tag": "ABX9TyOhHTzu6AdosHZnUrkMVQP7",
      "include_colab_link": true
    },
    "kernelspec": {
      "name": "python3",
      "display_name": "Python 3"
    },
    "language_info": {
      "name": "python"
    }
  },
  "cells": [
    {
      "cell_type": "markdown",
      "metadata": {
        "id": "view-in-github",
        "colab_type": "text"
      },
      "source": [
        "<a href=\"https://colab.research.google.com/github/migueljulve/llm_engineering_course/blob/main/week_1/intermediate_python.ipynb\" target=\"_parent\"><img src=\"https://colab.research.google.com/assets/colab-badge.svg\" alt=\"Open In Colab\"/></a>"
      ]
    },
    {
      "cell_type": "code",
      "source": [
        "# First let's create some things:\n",
        "\n",
        "fruits = [\"Apples\", \"Bananas\", \"Pears\"]\n",
        "\n",
        "book1 = {\"title\": \"Great Expectations\", \"author\": \"Charles Dickens\"}\n",
        "book2 = {\"title\": \"Bleak House\", \"author\": \"Charles Dickens\"}\n",
        "book3 = {\"title\": \"An Book By No Author\"}\n",
        "book4 = {\"title\": \"Moby Dick\", \"author\": \"Herman Melville\"}\n",
        "\n",
        "books = [book1, book2, book3, book4]"
      ],
      "metadata": {
        "id": "eRc0ETUJjMkd"
      },
      "execution_count": 3,
      "outputs": []
    },
    {
      "cell_type": "markdown",
      "source": [
        "# PART 1: List and dic comprehensions"
      ],
      "metadata": {
        "id": "nElNMrS3jA_3"
      }
    },
    {
      "cell_type": "code",
      "source": [
        "for fruit in fruits:\n",
        "  print(fruit)"
      ],
      "metadata": {
        "colab": {
          "base_uri": "https://localhost:8080/"
        },
        "id": "yIM6Iky9jBoA",
        "outputId": "21bfeeab-f96e-454a-a292-4f8f4edd7b74"
      },
      "execution_count": 4,
      "outputs": [
        {
          "output_type": "stream",
          "name": "stdout",
          "text": [
            "Apples\n",
            "Bananas\n",
            "Pears\n"
          ]
        }
      ]
    },
    {
      "cell_type": "code",
      "source": [
        "# let's make a new version of fruits\n",
        "\n",
        "fruits_shouted = []\n",
        "\n",
        "for fruit in fruits:\n",
        "  fruits_shouted.append(fruit.upper())\n",
        "\n",
        "fruits_shouted"
      ],
      "metadata": {
        "colab": {
          "base_uri": "https://localhost:8080/"
        },
        "id": "ZEjMACgvjQCf",
        "outputId": "ad6ce19e-0201-41cc-bec6-5cea9bc34c30"
      },
      "execution_count": 6,
      "outputs": [
        {
          "output_type": "execute_result",
          "data": {
            "text/plain": [
              "['APPLES', 'BANANAS', 'PEARS']"
            ]
          },
          "metadata": {},
          "execution_count": 6
        }
      ]
    },
    {
      "cell_type": "code",
      "source": [
        "# There's a nice Python construct called \"list comprehension\" that does this:\n",
        "\n",
        "fruits_shouted2 = [fruit.upper() for fruit in fruits]\n",
        "fruits_shouted2"
      ],
      "metadata": {
        "colab": {
          "base_uri": "https://localhost:8080/"
        },
        "id": "nGDUHVE-jVts",
        "outputId": "7a91b9db-b387-4bda-8bbf-601e2aa62ce4"
      },
      "execution_count": 7,
      "outputs": [
        {
          "output_type": "execute_result",
          "data": {
            "text/plain": [
              "['APPLES', 'BANANAS', 'PEARS']"
            ]
          },
          "metadata": {},
          "execution_count": 7
        }
      ]
    },
    {
      "cell_type": "code",
      "source": [
        "# But you may not kno that you can create dictionaries too this way\n",
        "\n",
        "fruit_mapping = {fruit : fruit.upper() for fruit in fruits}\n",
        "fruit_mapping"
      ],
      "metadata": {
        "colab": {
          "base_uri": "https://localhost:8080/"
        },
        "id": "CcPpy7PYjzRp",
        "outputId": "dcc4a5de-e093-4316-ca85-9d0ecbd18804"
      },
      "execution_count": 8,
      "outputs": [
        {
          "output_type": "execute_result",
          "data": {
            "text/plain": [
              "{'Apples': 'APPLES', 'Bananas': 'BANANAS', 'Pears': 'PEARS'}"
            ]
          },
          "metadata": {},
          "execution_count": 8
        }
      ]
    },
    {
      "cell_type": "code",
      "source": [
        "fruit_mapping_unless_starts_with_a = {fruit: fruit.upper() for fruit in fruits if not fruit.startswith(\"A\")}\n",
        "fruit_mapping_unless_starts_with_a"
      ],
      "metadata": {
        "colab": {
          "base_uri": "https://localhost:8080/"
        },
        "id": "bF-Q8e-UkFhs",
        "outputId": "b623170b-097c-4bb0-aea4-64fac4ad3964"
      },
      "execution_count": 9,
      "outputs": [
        {
          "output_type": "execute_result",
          "data": {
            "text/plain": [
              "{'Bananas': 'BANANAS', 'Pears': 'PEARS'}"
            ]
          },
          "metadata": {},
          "execution_count": 9
        }
      ]
    },
    {
      "cell_type": "code",
      "source": [
        "# Another comprehension\n",
        "\n",
        "[book['title'] for book in books]"
      ],
      "metadata": {
        "colab": {
          "base_uri": "https://localhost:8080/"
        },
        "id": "TgfhA4kUkZ7J",
        "outputId": "58d61150-0f1d-4f23-b93d-9a99baf5c350"
      },
      "execution_count": 10,
      "outputs": [
        {
          "output_type": "execute_result",
          "data": {
            "text/plain": [
              "['Great Expectations', 'Bleak House', 'An Book By No Author', 'Moby Dick']"
            ]
          },
          "metadata": {},
          "execution_count": 10
        }
      ]
    },
    {
      "cell_type": "code",
      "source": [
        "# This code will fail with an error because one of our books doesn't have an author\n",
        "\n",
        "[book['author'] for book in books]"
      ],
      "metadata": {
        "colab": {
          "base_uri": "https://localhost:8080/",
          "height": 297
        },
        "id": "lyX7YprKkq4R",
        "outputId": "ab147e51-56a9-47c4-c518-1b26f5a65472"
      },
      "execution_count": 11,
      "outputs": [
        {
          "output_type": "error",
          "ename": "KeyError",
          "evalue": "'author'",
          "traceback": [
            "\u001b[0;31m---------------------------------------------------------------------------\u001b[0m",
            "\u001b[0;31mKeyError\u001b[0m                                  Traceback (most recent call last)",
            "\u001b[0;32m/tmp/ipython-input-11-3745931881.py\u001b[0m in \u001b[0;36m<cell line: 0>\u001b[0;34m()\u001b[0m\n\u001b[1;32m      1\u001b[0m \u001b[0;31m# This code will fail with an error because one of our books doesn't have an author\u001b[0m\u001b[0;34m\u001b[0m\u001b[0;34m\u001b[0m\u001b[0m\n\u001b[1;32m      2\u001b[0m \u001b[0;34m\u001b[0m\u001b[0m\n\u001b[0;32m----> 3\u001b[0;31m \u001b[0;34m[\u001b[0m\u001b[0mbook\u001b[0m\u001b[0;34m[\u001b[0m\u001b[0;34m'author'\u001b[0m\u001b[0;34m]\u001b[0m \u001b[0;32mfor\u001b[0m \u001b[0mbook\u001b[0m \u001b[0;32min\u001b[0m \u001b[0mbooks\u001b[0m\u001b[0;34m]\u001b[0m\u001b[0;34m\u001b[0m\u001b[0;34m\u001b[0m\u001b[0m\n\u001b[0m",
            "\u001b[0;32m/tmp/ipython-input-11-3745931881.py\u001b[0m in \u001b[0;36m<listcomp>\u001b[0;34m(.0)\u001b[0m\n\u001b[1;32m      1\u001b[0m \u001b[0;31m# This code will fail with an error because one of our books doesn't have an author\u001b[0m\u001b[0;34m\u001b[0m\u001b[0;34m\u001b[0m\u001b[0m\n\u001b[1;32m      2\u001b[0m \u001b[0;34m\u001b[0m\u001b[0m\n\u001b[0;32m----> 3\u001b[0;31m \u001b[0;34m[\u001b[0m\u001b[0mbook\u001b[0m\u001b[0;34m[\u001b[0m\u001b[0;34m'author'\u001b[0m\u001b[0;34m]\u001b[0m \u001b[0;32mfor\u001b[0m \u001b[0mbook\u001b[0m \u001b[0;32min\u001b[0m \u001b[0mbooks\u001b[0m\u001b[0;34m]\u001b[0m\u001b[0;34m\u001b[0m\u001b[0;34m\u001b[0m\u001b[0m\n\u001b[0m",
            "\u001b[0;31mKeyError\u001b[0m: 'author'"
          ]
        }
      ]
    },
    {
      "cell_type": "code",
      "source": [
        "# but this will work because get() returns None\n",
        "\n",
        "[book.get('author') for book in books]"
      ],
      "metadata": {
        "colab": {
          "base_uri": "https://localhost:8080/"
        },
        "id": "DtJiLaxGlCWI",
        "outputId": "4fc83f1f-0fa3-48ac-f74f-9f32901b64b7"
      },
      "execution_count": 13,
      "outputs": [
        {
          "output_type": "execute_result",
          "data": {
            "text/plain": [
              "['Charles Dickens', 'Charles Dickens', None, 'Herman Melville']"
            ]
          },
          "metadata": {},
          "execution_count": 13
        }
      ]
    },
    {
      "cell_type": "code",
      "source": [
        "# And this version will turn it into a set, removing duplicates\n",
        "\n",
        "set([book.get('author') for book in books])"
      ],
      "metadata": {
        "colab": {
          "base_uri": "https://localhost:8080/"
        },
        "id": "4MN3bSMwlN9M",
        "outputId": "4c42d092-e598-4c9b-930d-a0c4cdcc919d"
      },
      "execution_count": 15,
      "outputs": [
        {
          "output_type": "execute_result",
          "data": {
            "text/plain": [
              "{'Charles Dickens', 'Herman Melville', None}"
            ]
          },
          "metadata": {},
          "execution_count": 15
        }
      ]
    },
    {
      "cell_type": "code",
      "source": [
        "# And finally this version is even nicer\n",
        "# Curly braces creates a set, so this is a set comprehension\n",
        "\n",
        "{book.get('author') for book in books if book.get('author')}"
      ],
      "metadata": {
        "colab": {
          "base_uri": "https://localhost:8080/"
        },
        "id": "pBCM91OzlYfq",
        "outputId": "5a7de36a-b24f-411c-9661-78ee653e3240"
      },
      "execution_count": 17,
      "outputs": [
        {
          "output_type": "execute_result",
          "data": {
            "text/plain": [
              "{'Charles Dickens', 'Herman Melville'}"
            ]
          },
          "metadata": {},
          "execution_count": 17
        }
      ]
    },
    {
      "cell_type": "markdown",
      "source": [
        "# PART 2: Generators\n",
        "\n",
        "We use Generators in the course because AI models can stream back results.\n",
        "\n",
        "If you've not used Generators before, please start with this excellent intro from ChatGPT:\n",
        "\n",
        "https://chatgpt.com/share/672faa6e-7dd0-8012-aae5-44fc0d0ec218\n",
        "\n",
        "Try pasting some of its examples into a cell."
      ],
      "metadata": {
        "id": "_WVTlIBrmLPS"
      }
    },
    {
      "cell_type": "code",
      "source": [
        "# First define a generator; it looks like a function, but it has a yield instead of return\n",
        "\n",
        "import time\n",
        "\n",
        "def come_up_with_fruit_names():\n",
        "  for fruit in fruits:\n",
        "    time.sleep(1) # thinking of a fruit\n",
        "    yield fruit"
      ],
      "metadata": {
        "id": "RrMoPOCGl4x-"
      },
      "execution_count": 18,
      "outputs": []
    },
    {
      "cell_type": "code",
      "source": [
        "#then use it\n",
        "\n",
        "for fruit in come_up_with_fruit_names():\n",
        "  print(fruit)"
      ],
      "metadata": {
        "colab": {
          "base_uri": "https://localhost:8080/"
        },
        "id": "uqS-4Ef1rbgs",
        "outputId": "7f4ca782-7dd1-4ee8-bd5a-5b5e2ba21b3b"
      },
      "execution_count": 20,
      "outputs": [
        {
          "output_type": "stream",
          "name": "stdout",
          "text": [
            "Apples\n",
            "Bananas\n",
            "Pears\n"
          ]
        }
      ]
    },
    {
      "cell_type": "code",
      "source": [
        "# Here another one\n",
        "\n",
        "def authors_generator():\n",
        "  for book in books:\n",
        "    if book.get('author'):\n",
        "      yield book.get('author')"
      ],
      "metadata": {
        "id": "g4qlvPsPrinW"
      },
      "execution_count": 22,
      "outputs": []
    },
    {
      "cell_type": "code",
      "source": [
        "# then use it\n",
        "\n",
        "for author in authors_generator():\n",
        "  print(author)\n",
        ""
      ],
      "metadata": {
        "colab": {
          "base_uri": "https://localhost:8080/"
        },
        "id": "SjdhnznAsDta",
        "outputId": "7c5d8842-5647-46c4-d617-0501be509565"
      },
      "execution_count": 23,
      "outputs": [
        {
          "output_type": "stream",
          "name": "stdout",
          "text": [
            "Charles Dickens\n",
            "Charles Dickens\n",
            "Herman Melville\n"
          ]
        }
      ]
    },
    {
      "cell_type": "code",
      "source": [
        "#Here is the same thing writtenwith list comprehension\n",
        "\n",
        "def authors_generator():\n",
        "  for book in [book.get('author') for book in books if book.get('author') ]:\n",
        "    yield book"
      ],
      "metadata": {
        "id": "m6wqLqr7sX58"
      },
      "execution_count": null,
      "outputs": []
    },
    {
      "cell_type": "code",
      "source": [
        "for book in authors_generator():\n",
        "  print(book)"
      ],
      "metadata": {
        "colab": {
          "base_uri": "https://localhost:8080/"
        },
        "id": "qazAoQkRtRS_",
        "outputId": "9c3b4572-1c45-412d-d98e-b1bec17453dc"
      },
      "execution_count": 24,
      "outputs": [
        {
          "output_type": "stream",
          "name": "stdout",
          "text": [
            "Charles Dickens\n",
            "Charles Dickens\n",
            "Herman Melville\n"
          ]
        }
      ]
    },
    {
      "cell_type": "code",
      "source": [
        "#here is a shortcut\n",
        "# You can use \"yield from\" to yield each item of an iterable\n",
        "\n",
        "def authors_generator():\n",
        "  yield from [book.get('author') for book in books if book.get('author')]"
      ],
      "metadata": {
        "id": "G6O7Z8EMtV-5"
      },
      "execution_count": 31,
      "outputs": []
    },
    {
      "cell_type": "code",
      "source": [
        "# use it\n",
        "\n",
        "for author in authors_generator():\n",
        "  print(author)"
      ],
      "metadata": {
        "colab": {
          "base_uri": "https://localhost:8080/"
        },
        "id": "_NvcIJpTuPFI",
        "outputId": "a6e39ead-5f0f-4741-db10-0ba2ced5dfeb"
      },
      "execution_count": 32,
      "outputs": [
        {
          "output_type": "stream",
          "name": "stdout",
          "text": [
            "Charles Dickens\n",
            "Charles Dickens\n",
            "Herman Melville\n"
          ]
        }
      ]
    },
    {
      "cell_type": "code",
      "source": [
        "# And finally we can use the set comprehension:\n",
        "\n",
        "def unique_authors_generator():\n",
        "  yield from {book.get('author') for book in books if book.get('author')}\n",
        "\n"
      ],
      "metadata": {
        "id": "4mffGkXIueEz"
      },
      "execution_count": 34,
      "outputs": []
    },
    {
      "cell_type": "code",
      "source": [
        "#using it\n",
        "\n",
        "for author in unique_authors_generator():\n",
        "  print(author)"
      ],
      "metadata": {
        "colab": {
          "base_uri": "https://localhost:8080/"
        },
        "id": "1kOHncGYwW8U",
        "outputId": "c81f735f-fff7-4003-e1aa-e37691a31f62"
      },
      "execution_count": 35,
      "outputs": [
        {
          "output_type": "stream",
          "name": "stdout",
          "text": [
            "Charles Dickens\n",
            "Herman Melville\n"
          ]
        }
      ]
    },
    {
      "cell_type": "code",
      "source": [
        "from typing import Tuple\n",
        "# And now some fun - press the stop button in the toolbar when bored!\n",
        "# It's like we 've made our own Large Language Model....althoug not particularly large...\n",
        "# See if you understand why it prints a letter at a time, instead of a word at a time. If you are unsure, try removing the keyword \"from\" everywhere in the code\n",
        "\n",
        "import random\n",
        "import time\n",
        "\n",
        "pronouns = [\"I\", \"You\", \"We\", \"They\"]\n",
        "verbs = [\"eat\", \"detest\", \"bathe in\", \"deny the existence of\", \"resent\", \"pontificate about\", \"juggle\", \"impersonate\", \"worship\", \"misplace\", \"conspire with\", \"philosophize about\", \"tap dance on\", \"dramatically renounce\", \"secretly collect\"]\n",
        "adjectives = [\"turqoise\", \"smelly\", \"arrogant\", \"festering\", \"pleasing\", \"whimsical\", \"disheveled\", \"pretentious\", \"wobbly\", \"melodramatic\", \"pompous\", \"fluorescent\", \"bewildered\", \"suspicious\", \"overripe\"]\n",
        "nouns = [\"turnips\", \"rodents\", \"eels\", \"walruses\", \"kumquats\", \"monocles\", \"spreadsheets\", \"bagpipes\", \"wombats\", \"accordions\", \"mustaches\", \"calculators\", \"jellyfish\", \"thermostats\"]\n",
        "\n",
        "\n",
        "def infinite_random_sentences():\n",
        "  while True:\n",
        "    yield  random.choice(pronouns)\n",
        "    yield \" \"\n",
        "    yield  random.choice(verbs)\n",
        "    yield \" \"\n",
        "    yield  random.choice(adjectives)\n",
        "    yield \" \"\n",
        "    yield  random.choice(nouns)\n",
        "    yield \". \"\n",
        "\n",
        "for word in infinite_random_sentences():\n",
        "  print(word, end=\"\", flush=True)\n",
        "  time.sleep(0.5)\n",
        "\n",
        "\n",
        "# the output it's word by word, because \"yield\" obtains the full word\n",
        "\n",
        ""
      ],
      "metadata": {
        "colab": {
          "base_uri": "https://localhost:8080/"
        },
        "id": "GsYU9eq5wb8B",
        "outputId": "131db61c-4be4-4036-874e-e035a5bd5014"
      },
      "execution_count": null,
      "outputs": [
        {
          "output_type": "stream",
          "name": "stdout",
          "text": [
            "We eat pretentious mustaches. They juggle melodramatic walruses. You pontificate about smelly eels. We worship pretentious turnips. I eat pleasing mustaches. They juggle suspicious rodents. We detest overripe bagpipes. You misplace disheveled walruses. I deny the existence of overripe mustaches. I eat pleasing eels. They tap dance on overripe walruses. We misplace bewildered thermostats. You detest overripe walruses. We philosophize about pompous wombats. I dramatically renounce arrogant bagpipes. They tap dance on suspicious jellyfish. I resent festering eels. They bathe in suspicious jellyfish. We misplace pretentious turnips. I juggle disheveled calculators. They detest arrogant mustaches. We eat pretentious turnips. We bathe in pompous eels. You secretly collect overripe eels. You worship melodramatic turnips. You juggle festering jellyfish. They juggle pompous thermostats. We bathe in arrogant turnips. They juggle melodramatic accordions. We deny the existence of whimsical monocles. We secretly collect wobbly mustaches. They resent festering spreadsheets. We resent overripe accordions. We misplace festering monocles. We philosophize about pompous bagpipes. We misplace overripe kumquats. We impersonate whimsical calculators. We conspire with pompous turnips. We detest melodramatic kumquats. I bathe in turqoise spreadsheets. They eat suspicious monocles. You pontificate about wobbly kumquats. They impersonate bewildered mustaches. I juggle smelly jellyfish. We tap dance on melodramatic eels. We worship bewildered eels. I secretly collect pretentious turnips. You secretly collect whimsical thermostats. You resent pleasing walruses. I conspire with pleasing rodents. They philosophize about smelly monocles. They worship pompous mustaches. You conspire with disheveled turnips. We detest disheveled mustaches. I secretly collect melodramatic monocles. I deny the existence of arrogant spreadsheets. You impersonate festering turnips. You misplace overripe jellyfish. You impersonate overripe eels. You dramatically renounce pleasing bagpipes. You deny the existence of wobbly walruses. We secretly collect suspicious jellyfish. They deny the existence of festering walruses. You bathe in smelly kumquats. We tap dance on disheveled kumquats. I bathe in suspicious rodents. We impersonate arrogant kumquats. We pontificate about smelly eels. I conspire with pleasing monocles. You resent pompous turnips. You misplace whimsical mustaches. They eat overripe walruses. They worship pompous kumquats. We impersonate pleasing thermostats. We bathe in arrogant rodents. You impersonate pretentious bagpipes. We dramatically renounce suspicious spreadsheets. They detest pleasing rodents. They impersonate turqoise kumquats. I misplace fluorescent mustaches. They secretly collect turqoise walruses. I eat fluorescent thermostats. You secretly collect turqoise bagpipes. I resent bewildered calculators. We resent disheveled rodents. I detest suspicious bagpipes. We tap dance on whimsical spreadsheets. They philosophize about disheveled bagpipes. I philosophize about suspicious monocles. I detest overripe wombats. You pontificate about overripe calculators. You philosophize about wobbly thermostats. They resent pretentious walruses. I secretly collect pretentious bagpipes. We misplace overripe mustaches. We deny the existence of fluorescent spreadsheets. They tap dance on festering thermostats. You worship wobbly thermostats. I misplace "
          ]
        }
      ]
    },
    {
      "cell_type": "code",
      "source": [
        "def infinite_random_sentences():\n",
        "  while True:\n",
        "    yield  random.choice(pronouns)\n",
        "    yield \" \"\n",
        "    yield  random.choice(verbs)\n",
        "    yield \" \"\n",
        "    yield  random.choice(adjectives)\n",
        "    yield \" \"\n",
        "    yield  random.choice(nouns)\n",
        "    yield \". \"\n",
        "\n",
        "for word in infinite_random_sentences():\n",
        "  print(word, end=\"\", flush=True)\n",
        "  time.sleep(0.5)\n",
        "\n",
        "\n",
        "# Here the output is letter by letter because \"yield from\" makes a loop within every word getting letter by letter from the word"
      ],
      "metadata": {
        "id": "hoVKxvddyMey"
      },
      "execution_count": null,
      "outputs": []
    },
    {
      "cell_type": "code",
      "source": [],
      "metadata": {
        "id": "XXYsfAYu69Ll"
      },
      "execution_count": null,
      "outputs": []
    }
  ]
}